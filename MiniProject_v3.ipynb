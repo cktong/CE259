{
 "cells": [
  {
   "cell_type": "markdown",
   "metadata": {},
   "source": [
    "## Mini Project 1 \n",
    "CE259 - Jessica Camacho, Christopher Tong, Catalina Vanoli "
   ]
  },
  {
   "cell_type": "markdown",
   "metadata": {},
   "source": [
    "**Modifying an existing local bus line to Bus Rapid Transit (BRT)**\n",
    "\n",
    "The Geary transit corridor has one of the highest transit riderships in San Francisco. Current\n",
    "service on Geary Boulevard has high scheduled frequencies, but is plagued by poor reliability\n",
    "due to conflicts from operating in mixed traffic, high dwell times at bus stops, excessive signal delays and other difficulties.\n",
    "\n",
    "In this project we will examine the current situation on Geary Blvd. during the evening rush, as well as the benefits that can be obtained through the introduction of BRT and a hierarchy of service.\n",
    "\n",
    "**Route Characteristics**\n",
    "\n",
    "The route consists of a 1.5 mile section in the CBD and 5 miles in the residential area. During a round trip, the bus currently stops at 84 relatively evenly spaced stops along the route including terminals at both ends (thus in each direction there are 41 stops plus the terminal) and the round trip of a bus is 120 min. 50% of this time is spent cruising, 25% loading and unloading(including loss time due to accelerating and decelerating), and 25% of the trip is caused by signal delay. We assume a fixed loss time of 10 sec per stop due to acceleration and deceleration, and that buses do not skip stops. Users take 4 times as long to board as to alight and we will assume that at each stop boarding and alighting movements occur in sequence. Users access bus stops by walking at a speed of 2 mph. Muni has budgeted 40 buses for the route, giving a headway of 3 minutes. \n",
    "\n",
    "**Standards for LOS**\n",
    "\n",
    "We will analyze 3 types of users for this project:\n",
    "1. Residential to Residential (R→R)\n",
    "2. CBD to Residential (C→R)\n",
    "3. Residential to CBD (R→C)\n",
    "\n",
    "**Data**\n",
    "\n",
    "The boarding and alighting demand density (PM rush) per hour per mile for service in both\n",
    "directions is shown in the Mini Project description"
   ]
  },
  {
   "cell_type": "code",
   "execution_count": 14,
   "metadata": {
    "collapsed": true
   },
   "outputs": [],
   "source": [
    "import numpy as np\n",
    "from scipy.optimize import root\n",
    "import matplotlib.pyplot as plt\n",
    "import math\n",
    "\n",
    "%matplotlib inline\n",
    "\n",
    "L_c = 2*1.5\n",
    "L_r = 2*5. #residential length\n",
    "\n",
    "L = (L_c + L_r) #total length of round trip\n",
    "\n",
    "stops_i = 84.\n",
    "\n",
    "#in hours\n",
    "time_roundtrip = 120. / 60\n",
    "\n",
    "time_cruising = .5\n",
    "time_load_unload = .25\n",
    "signal_delay = .25\n",
    "\n",
    "t_s = 10 / 3600. # time loss per stop\n",
    "v_s = 2. #walk speed mph\n",
    "\n",
    "# placeholder\n",
    "alight_time_frac = 1.\n",
    "board_time_frac = 4.\n",
    "\n",
    "N = 40.\n",
    "\n",
    "# demand\n",
    "\n",
    "#pax per hr mile\n",
    "cbd_boarding_to_lobos = 700\n",
    "residential_boarding_to_lobos = 70\n",
    "residential_boarding_to_TT = 240\n",
    "\n",
    "cbd_alighting_to_TT = 600\n",
    "residential_alighting_to_lobos = 280\n",
    "residential_alighting_to_TT = 60"
   ]
  },
  {
   "cell_type": "code",
   "execution_count": 18,
   "metadata": {
    "collapsed": false
   },
   "outputs": [
    {
     "name": "stdout",
     "output_type": "stream",
     "text": [
      "passengers board per bus: 73.75\n",
      "passengers alight per bus: 65.0\n"
     ]
    }
   ],
   "source": [
    "#total passengers served by finding total amount of boarding in the system per hour \n",
    "#and dividing by amount of buses\n",
    "\n",
    "pax_board_lobos= L_c/2 * cbd_boarding_to_lobos + L_r * residential_boarding_to_lobos\n",
    "pax_board_TT = L_r/2 * residential_boarding_to_TT\n",
    "\n",
    "#pax per bus per hour\n",
    "pax_board_hour= (pax_board_lobos + pax_board_TT)/ N\n",
    "\n",
    "pax_alight_lobos= L_r/2 * residential_alighting_to_lobos\n",
    "pax_alight_TT = L_c/2 * cbd_alighting_to_TT + L_r/2 *residential_alighting_to_TT\n",
    "\n",
    "pax_alight_hour= (pax_alight_lobos + pax_alight_TT)/ N\n",
    "\n",
    "print \"passengers board per bus: %s\" % (pax_board_hour)\n",
    "print \"passengers alight per bus: %s\" % (pax_alight_hour)"
   ]
  },
  {
   "cell_type": "markdown",
   "metadata": {},
   "source": [
    "## Part 1\n",
    "\n",
    "**Commercial speed:**"
   ]
  },
  {
   "cell_type": "code",
   "execution_count": 19,
   "metadata": {
    "collapsed": false
   },
   "outputs": [
    {
     "name": "stdout",
     "output_type": "stream",
     "text": [
      "commercial speed: 6.5 mph\n",
      "cruising speed: 13.0 mph\n"
     ]
    }
   ],
   "source": [
    "# commercial speed (mph)\n",
    "commercial_speed = L / time_roundtrip\n",
    "\n",
    "#cruising speed\n",
    "cruising_speed = L/(time_roundtrip*time_cruising)\n",
    "\n",
    "print \"commercial speed: %s mph\" % (commercial_speed)\n",
    "print \"cruising speed: %s mph\" % (cruising_speed)"
   ]
  },
  {
   "cell_type": "markdown",
   "metadata": {},
   "source": [
    "**Boarding and Alighting time:** "
   ]
  },
  {
   "cell_type": "code",
   "execution_count": 20,
   "metadata": {
    "collapsed": false
   },
   "outputs": [
    {
     "name": "stdout",
     "output_type": "stream",
     "text": [
      "passenger alight time: 1.33333333333 seconds (tau_a)\n",
      "passenger board time: 5.33333333333 seconds (tau_b)\n"
     ]
    }
   ],
   "source": [
    "# bus stops 84 times\n",
    "total_acc_dec_losstime = stops_i* t_s\n",
    "\n",
    "# loading and alighting time\n",
    "alight_time_per_passenger =(time_load_unload * time_roundtrip - total_acc_dec_losstime)/((pax_board_hour* board_time_frac + pax_alight_hour* alight_time_frac)*time_roundtrip)\n",
    "board_time_per_passenger = alight_time_per_passenger * board_time_frac\n",
    "\n",
    "print \"passenger alight time: %s seconds (tau_a)\" % (alight_time_per_passenger*3600)\n",
    "print \"passenger board time: %s seconds (tau_b)\" % (board_time_per_passenger*3600)"
   ]
  },
  {
   "cell_type": "markdown",
   "metadata": {},
   "source": [
    "henceforth,\n",
    "\n",
    "$$ \n",
    "\\tau_a = 1.5 sec\n",
    "\\\\\n",
    "\\tau_b = 6 sec\n",
    "$$"
   ]
  },
  {
   "cell_type": "markdown",
   "metadata": {},
   "source": [
    "But what is the **optimal stop spacing?** Since initial stop spacing is given and we know the relationship between cruising speed and v_max is: $$ v_c(s) =\\frac{s}{t_s + \\frac{s}{v_m}}$$\n",
    "\n",
    "we know **max velocity** given we know the **initial stop spacing** is $ \\frac{l} {stops_i}$ and $stops_i = 84 $"
   ]
  },
  {
   "cell_type": "code",
   "execution_count": 21,
   "metadata": {
    "collapsed": false
   },
   "outputs": [
    {
     "name": "stdout",
     "output_type": "stream",
     "text": [
      "current stop spacing: 0.154761904762\n",
      "current max velocity: 16.9565217391 mph\n"
     ]
    }
   ],
   "source": [
    "s = L / (stops_i)\n",
    "print \"current stop spacing: %s\" %(s)\n",
    "v_max = s/((s/cruising_speed)-t_s)\n",
    "print \"current max velocity: %s mph\" %(v_max)"
   ]
  },
  {
   "cell_type": "markdown",
   "metadata": {},
   "source": [
    "### $Riders_{R \\rightarrow R}$"
   ]
  },
  {
   "cell_type": "markdown",
   "metadata": {},
   "source": [
    "the **door to door** travel time is the **sum** of time related to:\n",
    "* cruising\n",
    "* acceleration & deceleration loss time\n",
    "* signal delay\n",
    "* boarding and alighting of passengers ($\\tau$)\n",
    "* walking \n",
    "* waiting\n",
    "\n",
    "The equation of door to door travel time of an average passenger as a function of length of travel ($l$) and stop spacing ($s$), considering only the ters that affect s:\n",
    "$$\n",
    "T(l,s) = \\frac{l}{v_cs} + \\frac{s}{2v_s} + \\frac{10}{3600}\\frac{l}{s}\n",
    "$$\n",
    "\n",
    "For users who are travelling $R \\rightarrow R$ (without going to CBD),\n",
    "\n",
    "we can estimate the average length of travel distance is: \n",
    "\n",
    "\n",
    "$$ \n",
    "l_r = \\frac{5}{3}\n",
    "$$\n",
    "\n",
    "By numerically solving for the root:"
   ]
  },
  {
   "cell_type": "code",
   "execution_count": 177,
   "metadata": {
    "collapsed": false,
    "scrolled": true
   },
   "outputs": [
    {
     "name": "stdout",
     "output_type": "stream",
     "text": [
      "stop spacing for Residential stops: [ 0.19214358]\n"
     ]
    },
    {
     "data": {
      "image/png": "[encoded data removed]",
      "text/plain": [
       "<matplotlib.figure.Figure at 0x932fda0>"
      ]
     },
     "metadata": {},
     "output_type": "display_data"
    }
   ],
   "source": [
    "l_r= L_r/(2*3)\n",
    "\n",
    "def v_c(s):\n",
    "    return s/(t_s+s/v_max)\n",
    "\n",
    "# this is not actual T, but only parts that affected stop spacing and trip length (T')\n",
    "def T(s,l):\n",
    "    return s/(2*v_s) + l/v_c(s) + t_s*l/s\n",
    "\n",
    "\n",
    "solution = root(T,.01, l_r) # the second number here \n",
    "print \"stop spacing for Residential stops: %s\" % (solution.x)\n",
    "\n",
    "s_RtoR = solution.x\n",
    "plt.plot(np.linspace(.1,l_r),T(np.linspace(.1,l_r),l_r))\n",
    "plt.show()"
   ]
  },
  {
   "cell_type": "markdown",
   "metadata": {},
   "source": [
    "Alternatively we can solve in a **closed loop** equation. Given **EOQ** equation is: \n",
    "\n",
    "$$\n",
    "z = Ax^\\alpha + Bx^{-\\beta}\n",
    "$$\n",
    "\n",
    "we can solve for s*:\n",
    "\n",
    "$$\n",
    "s^* = \\frac{Bm}{An}^{\\frac{1}{n+m}} = \\sqrt{4t_sv_s[\\bar l + \\frac{13}{2(40)}]} $$\n",
    "\n",
    "and so, $s_{r\\rightarrow c}^*$ is:"
   ]
  },
  {
   "cell_type": "code",
   "execution_count": 125,
   "metadata": {
    "collapsed": false
   },
   "outputs": [
    {
     "name": "stdout",
     "output_type": "stream",
     "text": [
      "optimal stop spacing for residential riders: 0.19245008973\n"
     ]
    }
   ],
   "source": [
    "s_RtoR = math.sqrt(4 * t_s * v_s * (l_r + 13/80))\n",
    "\n",
    "print \"optimal stop spacing for residential riders: %s\" %s_RtoR"
   ]
  },
  {
   "cell_type": "markdown",
   "metadata": {},
   "source": [
    "### $Riders_{C \\rightarrow R}$"
   ]
  },
  {
   "cell_type": "markdown",
   "metadata": {},
   "source": [
    "Riders from CBD to Residential area have different avg travel length. By tracking the amount of boardings and alightings during one trip **westbound** from CBD to the ocean, we can graph an **input output diagram**. \n",
    "\n",
    "** See Desmos graph:\n",
    "https://www.desmos.com/calculator/k3nniwwqj0\n",
    "**\n",
    "\n",
    "When calculating the area of the polygon and dividing by the amount of westbound boardings, \n",
    "\n",
    "$$Q_b = 700(1.5) + 70(5) = 1400 $$\n",
    "\n",
    "$$\\bar l_c = \\frac{3412.5}{Q_b} = 2.44$$ \n"
   ]
  },
  {
   "cell_type": "markdown",
   "metadata": {},
   "source": [
    "We can solve $\\bar l_c$ using weighted averages:\n",
    "\n",
    "$$ \n",
    "l_c = \\frac{l_a - .25l_r}{.75}$$\n",
    "\n",
    "$$\n",
    "l_c = 2.69$$"
   ]
  },
  {
   "cell_type": "markdown",
   "metadata": {},
   "source": [
    "Using $l_c$ we plug into the EOQ equation to find stop spacing for $C \\rightarrow R$ :"
   ]
  },
  {
   "cell_type": "code",
   "execution_count": 38,
   "metadata": {
    "collapsed": false
   },
   "outputs": [
    {
     "name": "stdout",
     "output_type": "stream",
     "text": [
      "optimal stop spacing for CBD riders: 0.244494944279\n"
     ]
    }
   ],
   "source": [
    "l_c = 2.69\n",
    "s_CtoR = math.sqrt(4 * t_s * v_s * (l_c + 13/80))\n",
    "\n",
    "print \"optimal stop spacing for CBD riders: %s\" %s_CtoR"
   ]
  },
  {
   "cell_type": "markdown",
   "metadata": {},
   "source": [
    "The percentage of $C \\rightarrow R$ riders is:"
   ]
  },
  {
   "cell_type": "code",
   "execution_count": 123,
   "metadata": {
    "collapsed": false
   },
   "outputs": [
    {
     "name": "stdout",
     "output_type": "stream",
     "text": [
      "Ratio of C->R transit: 0.75\n"
     ]
    }
   ],
   "source": [
    "Amount_CtoR = L_c/2  * cbd_boarding_to_lobos\n",
    "Amount_RtoR1 = L_r/2 * (residential_boarding_to_lobos)\n",
    "Amount_RtoR2= L_r/2 * residential_alighting_to_TT\n",
    "Amount_RtoC = L_c/2 * cbd_alighting_to_TT\n",
    "\n",
    "CBD_ratio = (Amount_CtoR+Amount_RtoC)/(Amount_RtoR1 + Amount_RtoR2 + Amount_CtoR+ Amount_RtoC)\n",
    "\n",
    "print \"Ratio of C->R transit: %s\" % (CBD_ratio)"
   ]
  },
  {
   "cell_type": "markdown",
   "metadata": {},
   "source": [
    "**Reconciling the stop spacings**\n",
    "\n",
    "By weighting ratio of $C \\rightarrow R$ users to $R \\rightarrow R$ users, we can find a combined stop spacing as below:\n",
    "\n",
    "$s^* = .75s_{C \\rightarrow R} + .25s_{R\\rightarrow R}$"
   ]
  },
  {
   "cell_type": "code",
   "execution_count": 132,
   "metadata": {
    "collapsed": false
   },
   "outputs": [
    {
     "name": "stdout",
     "output_type": "stream",
     "text": [
      "Optimal stop spacing is 0.231\n"
     ]
    }
   ],
   "source": [
    "s_star= round(CBD_ratio * s_CtoR + (1- CBD_ratio) * s_RtoR,3)\n",
    "\n",
    "print \"Optimal stop spacing is %s\" % (s_star)"
   ]
  },
  {
   "cell_type": "markdown",
   "metadata": {},
   "source": [
    "So this means in the CBD zone, the optimal stop spacing is:\n",
    "\n",
    "$s^*_{C} = .25 miles$\n",
    "\n",
    "Resulting in **6 stops** in the CBD.\n",
    "\n",
    "The optimal stop spacing in Residential zone is:\n",
    "\n",
    "$s^*_{R} = .231 miles$\n",
    "\n",
    "But when rounding the number of stops to obtain an integer number, it results in **21 stops** with a spacing of **.238 miles** between stops."
   ]
  },
  {
   "cell_type": "markdown",
   "metadata": {},
   "source": [
    "The optimal spacing may differ from actual spacing for a variety of reasons. One potential reason can be the political pressures to keep or develop a stop at specific landmarks or key places. Stops may be placed closer than optimal as an acknowledgement of the walking penalty. Physical constraints such as block sizing may also affect location. \n",
    "\n"
   ]
  },
  {
   "cell_type": "markdown",
   "metadata": {},
   "source": [
    "## Part 2"
   ]
  },
  {
   "cell_type": "markdown",
   "metadata": {},
   "source": [
    "**Cruising time**\n",
    "\n",
    "Travel time as a result of cruising should decrease by 50% while travel time as a result of signal delay should decrease by 50%. Therefore, the breakdown of cycle time from part 1 is invalid. However, as we consider the time loading and unloading to be the same as before (due to the assumption that demand is consistent), we can calculate a new cycle time"
   ]
  },
  {
   "cell_type": "code",
   "execution_count": 22,
   "metadata": {
    "collapsed": false
   },
   "outputs": [
    {
     "name": "stdout",
     "output_type": "stream",
     "text": [
      "85.0 min\n"
     ]
    }
   ],
   "source": [
    "signal_delay_time_BRT = signal_delay*.5*time_roundtrip\n",
    "cruising_time_BRT= time_cruising*time_roundtrip/1.5\n",
    "\n",
    "cruising_speed_BRT = cruising_speed * 1.5\n",
    "\n",
    "cycle_time = (signal_delay_time_BRT + cruising_time_BRT + time_roundtrip*time_load_unload)*60\n",
    "\n",
    "print \"%s min\" % round(cycle_time)"
   ]
  },
  {
   "cell_type": "markdown",
   "metadata": {},
   "source": [
    "We can calculate a new $v_{max}$ due to BRT implementation"
   ]
  },
  {
   "cell_type": "code",
   "execution_count": 26,
   "metadata": {
    "collapsed": false
   },
   "outputs": [
    {
     "name": "stdout",
     "output_type": "stream",
     "text": [
      "30.0 mph\n"
     ]
    }
   ],
   "source": [
    "s= L / (stops_i)\n",
    "v_max = s/((s/cruising_speed_BRT)-t_s)\n",
    "\n",
    "print \"%s mph\" % v_max"
   ]
  },
  {
   "cell_type": "markdown",
   "metadata": {},
   "source": [
    "Assuming that the loss time due to acceleration and deceleration $t_s$ remains constant, the only variable affecting length would be distance travelled, which is not a function of cycle time. Therefore, our stop spacing and amount of stops remain unchanged\n",
    "\n",
    "CBD zone:\n",
    "\n",
    "$s^*_{C} = .25 miles$\n",
    "\n",
    "stops : **6 stops**\n",
    "\n",
    "Residential zone:\n",
    "\n",
    "$s^*_{R} = .238 miles$\n",
    "\n",
    "stops: **21 stops** "
   ]
  },
  {
   "cell_type": "markdown",
   "metadata": {},
   "source": [
    "The stop spacings for each zone are the same as in part 1 since the optimal spacing EOQ depends on the walking speed, the loss time due to acceleration and deceleration and the average trip length for each type of passenger. \n",
    "\n",
    "However, the advantage of implementing a BRT will be reflected in the door to door travel time and the total cycle time which will be reduced due to the terms that in $T$ that include the cruising speed (as v_max increased with the BRT service) and the signal delay ( decreased due to TSP).\n",
    "\n",
    "Total cycle time approximately when optimizing: **65 minutes** \n",
    "\n",
    "Comparing cycle times between BRT and regular service, with the implementation of BRT, the cycle time will be reduced by approximately **38 minutes**. \n"
   ]
  },
  {
   "cell_type": "markdown",
   "metadata": {},
   "source": [
    "## Part 3"
   ]
  },
  {
   "cell_type": "markdown",
   "metadata": {},
   "source": [
    "In a heirarchy system, $C\\rightarrow R$ users will board an express bus and transfer to a local bus at the express stop closest to their destination, $R \\rightarrow C$ users will board a local bus and transfer to an express bus at the express stop closest to their origin. We assume all residential users will board the local bus (perhaps due to differences in pricing). \n",
    "\n",
    "Whereas in Part 1, we can assume all 40 buses operate the same route, in part 3, a certain percentage of buses operate as express buses while a certain percentage operate as local buses:\n",
    "\n",
    "$$ 40 = N_l + N_r $$\n",
    "\n",
    "#### Local Service Considerations\n",
    "\n",
    "Bus stops for the local service are optimized for residential users. We can therefore optimize the **EOQ** with respect to the share of buses that are servicing the local route (out of 40 buses to serve both local and express):\n",
    "\n",
    "$$s_L^*(N_l) = \\sqrt{4t_sv_s(\\bar l_r + \\frac{10}{2N_l})}$$\n",
    "\n",
    "#### Express Considerations\n",
    "\n",
    "Express service will be given in the following equation:\n",
    "\n",
    "$$ T_e(S_e,l) = walk_e + wait_e + cruise_e + accel_e + signal_e + wait_L + cruise_L$$\n",
    "\n",
    "The included functions are below:\n",
    "\n",
    "For $C \\rightarrow R$ passengers: the one way walk time from CBD origin to the express stop. \n",
    "For $R \\rightarrow C$ passengers: the one way walk time from the express stop to the CBD destination.\n",
    "\n",
    "- $$ walk_E = \\frac{S_E}{4v_s}$$\n",
    "\n",
    "The wait time at the express stop:\n",
    "\n",
    "- $$ wait_E = \\frac{h_E}{2} = \\frac{TT_E}{2N_E} = \\frac{1}{2N_E}\\Bigg[\\frac{13(t_s + \\frac{S_E}{V_{max}})}{S_E} + \\frac{13t_s}{S_E} + \\frac{30(13)}{13} + IVT_E(4\\tau_aQ_{bE} + \\tau_aQ_{aE})\\Bigg]\n",
    "$$\n",
    "\n",
    "The cruise time while on express bus with cruise speed as a function of $S_E$, $t_s$ and $v_{max}$:\n",
    "\n",
    "- $$cruise_E = \\frac{\\bar l_E(t_s + \\frac{S_E}{V_{max}})}{S_E}$$\n",
    "\n",
    "The acceleration and deceleration time of the express bus (10 seconds per stop):\n",
    "\n",
    "- $$ accel_E = \\frac{\\bar l_Et_s}{S_E}$$\n",
    "\n",
    "The signal delay of express bus: \n",
    "\n",
    "- $$ signal_E = \\frac{30}{13}(\\bar l_E) $$\n",
    "\n",
    "Waiting for local bus transfer, which is half of the local service headway. At the same time the headway is round trip time divded by the number of local buses:\n",
    "\n",
    "- $$ wait_L = \\frac{h_L}{2}= \\frac{TT_L(S_L^*)}{2(40-N_E)}$$\n",
    "\n",
    "The last portion of the trip, which includes the cruise time of the local service and the walking time after alighting, calculated as an average length between express stops ($\\frac{S_E}{4}$) divided by the average speed of the local service:\n",
    "\n",
    "- $$ cruise_L =  \\frac{S_E}{4V(\\frac{S_E}{4})} = TT_L(\\frac{S_E}{4}) $$\n",
    "\n",
    "Boarding and alighting time (of the express bus):\n",
    "\n",
    "- $$board_A = IVT_E\\Big[4\\tau_aQ_{bE} + \\tau_aQ_{aE}\\Big]\\frac{\\bar l_E}{L}$$\n",
    "\n",
    "given $TT_L$ is:\n",
    "\n",
    "$$TT_L(\\frac{S_E}{4}) = \\frac{\\frac{S_E}{4}(t_s + \\frac{S_L^*}{V_{max}})}{S_L^*} + \\frac{\\frac{S_E}{4}t_s}{S_E}+ \\frac{30}{13}\\frac{S_E}{4} + IVT_L\\Big(4\\tau_aQ_{bL} + \\tau_aQ_{aL}\\Big)\n",
    "$$\n",
    "\n"
   ]
  },
  {
   "cell_type": "markdown",
   "metadata": {},
   "source": [
    "#### Calculating Demand\n",
    "\n",
    "The following are the boarding and alighting amounts for express and local bus (pax):\n",
    "\n",
    "$$\n",
    "Q_{bE} = \\frac{100 x 1.5 + 600 x 1.5}{N_E}\n",
    "$$\n",
    "\n",
    "$$\n",
    "Q_{aE} = \\frac{(280-70)s + (240-60)s}{N_E}\n",
    "$$\n",
    "\n",
    "$$\n",
    "Q_{bL} = \\frac{70(s) +240(s)}{N_L}\n",
    "$$\n",
    "\n",
    "$$\n",
    "Q_{aL} = \\frac{280(s) +60(s)}{N_L}\n",
    "$$\n",
    "\n",
    "IVT are the corresponding invehicle times in express bus and in local bus. This includes the cruising time, signal delay, and boarding and alighting. "
   ]
  },
  {
   "cell_type": "markdown",
   "metadata": {},
   "source": [
    "### Solution\n",
    "\n",
    "\n",
    "To calculate the optimal spacing and headway for the hierarchical system, we used the door-to-door travel time equation presented above. For a given number of buses designated as express, we found the optimal value of spacing for the express service that would minimize average door-to-door travel time. We performed iterations changing the percentage of buses designated as express from 10% to 90% and found the optimal express spacing for each case. \n",
    "\n",
    "This process was done using the optimal spacing for local services. Given that the ratio between express spacing and local spacing must be an integer (people don’t walk in transfers), we then constrained the spacing for local service to a value close to the optimal that would meet this restriction (SE=2*SL). \n",
    "\n",
    "As shown in below tables, the optimal spacing for the express bus is **.38 miles (17 stops), with 22 express buses**. The corresponding optimal headway is 4.7 minutes.  \n",
    "\n",
    "For local service, the optimal spacing is **.19 miles, with 18 buses. The corresponding optimal headway is 5 minutes.**"
   ]
  },
  {
   "cell_type": "code",
   "execution_count": 11,
   "metadata": {
    "collapsed": false
   },
   "outputs": [
    {
     "data": {
      "image/png": "[encoded data removed]",
      "text/plain": [
       "<IPython.core.display.Image object>"
      ]
     },
     "execution_count": 11,
     "metadata": {},
     "output_type": "execute_result"
    }
   ],
   "source": [
    "from IPython.display import Image\n",
    "Image(filename= \"table1.png\")\n",
    "#ITERATION TABLE TO FIND OPTIMAL EXPRESS SPACING WITH THE CONSTRAINT"
   ]
  },
  {
   "cell_type": "code",
   "execution_count": 12,
   "metadata": {
    "collapsed": false
   },
   "outputs": [
    {
     "data": {
      "image/png": "[encoded data removed]",
      "text/plain": [
       "<IPython.core.display.Image object>"
      ]
     },
     "execution_count": 12,
     "metadata": {},
     "output_type": "execute_result"
    }
   ],
   "source": [
    "Image(filename= \"table2.png\")\n",
    "#ITERATION TABLE TO FIND OPTIMAL EXPRESS SPACING"
   ]
  },
  {
   "cell_type": "code",
   "execution_count": 13,
   "metadata": {
    "collapsed": false
   },
   "outputs": [
    {
     "data": {
      "image/png": "[encoded data removed]",
      "text/plain": [
       "<IPython.core.display.Image object>"
      ]
     },
     "execution_count": 13,
     "metadata": {},
     "output_type": "execute_result"
    }
   ],
   "source": [
    "Image(filename= \"table3.png\")\n",
    "# SERVICES VALUES"
   ]
  },
  {
   "cell_type": "code",
   "execution_count": 14,
   "metadata": {
    "collapsed": false
   },
   "outputs": [
    {
     "data": {
      "image/png": "[encoded data removed]",
      "text/plain": [
       "<IPython.core.display.Image object>"
      ]
     },
     "execution_count": 14,
     "metadata": {},
     "output_type": "execute_result"
    }
   ],
   "source": [
    "Image(filename= \"table4.png\")\n",
    "#PASSENGERS VALUES"
   ]
  },
  {
   "cell_type": "markdown",
   "metadata": {},
   "source": [
    "# SUMMARY\n",
    "#### The following tables show the different values obtained when implementing the three studied services: Regular services, BRT System and Hierarchical System"
   ]
  },
  {
   "cell_type": "code",
   "execution_count": 15,
   "metadata": {
    "collapsed": false
   },
   "outputs": [
    {
     "data": {
      "image/png": "[encoded data removed]",
      "text/plain": [
       "<IPython.core.display.Image object>"
      ]
     },
     "execution_count": 15,
     "metadata": {},
     "output_type": "execute_result"
    }
   ],
   "source": [
    "Image(filename= \"Summary_Services.png\")\n",
    "#SUMMARY SERVICES' PERFORMANCES VALUES"
   ]
  },
  {
   "cell_type": "code",
   "execution_count": 16,
   "metadata": {
    "collapsed": false
   },
   "outputs": [
    {
     "data": {
      "image/png": "[encoded data removed]",
      "text/plain": [
       "<IPython.core.display.Image object>"
      ]
     },
     "execution_count": 16,
     "metadata": {},
     "output_type": "execute_result"
    }
   ],
   "source": [
    "Image(filename= \"Summary_Passengers.png\")\n",
    "#SUMMARY DOOR TO DOOR TRAVEL TIME FOR EACH TYPE OF PASSENGER WITH EACH SERVICE. "
   ]
  },
  {
   "cell_type": "markdown",
   "metadata": {},
   "source": [
    "## Conclusions\n",
    "\n",
    "Within the different studied services, the Bus Rapid Transit has the shortest cycle time and door to door travel time per passenger. Although the Hierarchical system reduces the cycle time when compared to the regular system (part I), it results in larger door-to-door travel time for all types of passengers. This is due to the transfer time added when introducing the hierarchy, which for this particular application is not offset by in vehicle travel time savings. For applications with larger route lengths, the hierarchy might start to introduce door to door travel time benefits compared to a regular service.  "
   ]
  },
  {
   "cell_type": "markdown",
   "metadata": {},
   "source": [
    "See accompanying excel document for optimization solver."
   ]
  }
 ],
 "metadata": {
  "anaconda-cloud": {},
  "kernelspec": {
   "display_name": "Python [Root]",
   "language": "python",
   "name": "Python [Root]"
  },
  "language_info": {
   "codemirror_mode": {
    "name": "ipython",
    "version": 2
   },
   "file_extension": ".py",
   "mimetype": "text/x-python",
   "name": "python",
   "nbconvert_exporter": "python",
   "pygments_lexer": "ipython2",
   "version": "2.7.12"
  }
 },
 "nbformat": 4,
 "nbformat_minor": 0
}
